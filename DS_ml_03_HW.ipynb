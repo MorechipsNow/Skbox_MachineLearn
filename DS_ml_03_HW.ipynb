{
 "cells": [
  {
   "cell_type": "code",
   "execution_count": 254,
   "metadata": {},
   "outputs": [],
   "source": [
    "import numpy as np\n",
    "import pandas as pd\n",
    "from sympy import symbols, linsolve, nonlinsolve, Matrix\n",
    "from sklearn.linear_model import LinearRegression\n",
    "from sklearn.preprocessing import StandardScaler\n",
    "from sklearn.metrics import r2_score, mean_squared_error\n",
    "from sklearn.model_selection import train_test_split\n",
    "from matplotlib import pyplot as plt"
   ]
  },
  {
   "cell_type": "markdown",
   "metadata": {},
   "source": [
    "### 3.5\n",
    "\n",
    "Есть два набора точек - *x_hw* и *y_hw*. В рамках домашней работы нужно\n",
    "* визуализировать набор точек\n",
    "* найти коэффициенты регрессии $w_0, w_1$ по шагам, как в уроке\n",
    "* посчитать предсказание в виде $\\hat{y} = w_0 + w_1x$ и визуализировать его вместе с точками *x_hw* и *y_hw*"
   ]
  },
  {
   "cell_type": "code",
   "execution_count": 90,
   "metadata": {},
   "outputs": [],
   "source": [
    "x_hw = [50, 60, 70, 100]\n",
    "y_hw = [10, 15, 40, 45]"
   ]
  },
  {
   "cell_type": "code",
   "execution_count": 91,
   "metadata": {},
   "outputs": [],
   "source": [
    "#  это задание решается с помощью псевдообратной матрицы (для переопределенных систем)\n",
    "\n",
    "X = Matrix([[50,1], [60,1], [70,1], [100,1]])       #  матрица признаков (тривиальный х принимается за 1)\n",
    "Y = Matrix([10, 15, 40, 45])                    #   вектор ответов"
   ]
  },
  {
   "cell_type": "code",
   "execution_count": 92,
   "metadata": {},
   "outputs": [
    {
     "data": {
      "text/latex": [
       "$\\displaystyle \\left[\\begin{matrix}50 & 1\\\\60 & 1\\\\70 & 1\\\\100 & 1\\end{matrix}\\right]$"
      ],
      "text/plain": [
       "Matrix([\n",
       "[ 50, 1],\n",
       "[ 60, 1],\n",
       "[ 70, 1],\n",
       "[100, 1]])"
      ]
     },
     "execution_count": 92,
     "metadata": {},
     "output_type": "execute_result"
    }
   ],
   "source": [
    "X"
   ]
  },
  {
   "cell_type": "code",
   "execution_count": 93,
   "metadata": {},
   "outputs": [
    {
     "data": {
      "text/latex": [
       "$\\displaystyle \\left[\\begin{matrix}- \\frac{1}{70} & - \\frac{1}{140} & 0 & \\frac{3}{140}\\\\\\frac{5}{4} & \\frac{3}{4} & \\frac{1}{4} & - \\frac{5}{4}\\end{matrix}\\right]$"
      ],
      "text/plain": [
       "Matrix([\n",
       "[-1/70, -1/140,   0, 3/140],\n",
       "[  5/4,    3/4, 1/4,  -5/4]])"
      ]
     },
     "execution_count": 93,
     "metadata": {},
     "output_type": "execute_result"
    }
   ],
   "source": [
    "X_inv = (X.T*X)**-1*X.T         #  по формуле псевдообратной матрицы\n",
    "X_inv"
   ]
  },
  {
   "cell_type": "code",
   "execution_count": 94,
   "metadata": {},
   "outputs": [
    {
     "data": {
      "text/latex": [
       "$\\displaystyle \\left[\\begin{matrix}\\frac{5}{7}\\\\- \\frac{45}{2}\\end{matrix}\\right]$"
      ],
      "text/plain": [
       "Matrix([\n",
       "[  5/7],\n",
       "[-45/2]])"
      ]
     },
     "execution_count": 94,
     "metadata": {},
     "output_type": "execute_result"
    }
   ],
   "source": [
    "W = X_inv*Y\n",
    "W                     #  вектор весов"
   ]
  },
  {
   "cell_type": "code",
   "execution_count": 95,
   "metadata": {},
   "outputs": [
    {
     "data": {
      "text/latex": [
       "$\\displaystyle \\emptyset$"
      ],
      "text/plain": [
       "EmptySet"
      ]
     },
     "execution_count": 95,
     "metadata": {},
     "output_type": "execute_result"
    }
   ],
   "source": [
    "w0, w1 = symbols('w0, w1')\n",
    "X_aug = Matrix([[50,1,10], [60,1,15], [70,1,40], [100,1,45]])\n",
    "nonlinsolve(X_aug, [w0,w1])           #  вариант с расширенной матрицей ничего не даёт"
   ]
  },
  {
   "cell_type": "code",
   "execution_count": 96,
   "metadata": {},
   "outputs": [
    {
     "data": {
      "text/plain": [
       "array([[0.71428571, 0.        ]])"
      ]
     },
     "execution_count": 96,
     "metadata": {},
     "output_type": "execute_result"
    }
   ],
   "source": [
    "reg = LinearRegression().fit(X, Y)\n",
    "reg.coef_                             #  в модели лин. регрессии совпадает один коэффициент, второй почему-то не найден"
   ]
  },
  {
   "cell_type": "code",
   "execution_count": 97,
   "metadata": {},
   "outputs": [
    {
     "data": {
      "image/png": "[encoded data removed]",
      "text/plain": [
       "<Figure size 432x288 with 1 Axes>"
      ]
     },
     "metadata": {
      "needs_background": "light"
     },
     "output_type": "display_data"
    }
   ],
   "source": [
    "X_sup = np.linspace(50, 100)\n",
    "plt.scatter(x_hw, y_hw)\n",
    "plt.plot(X_sup, W[0]*X_sup + W[1], c='g')         #  рашение через псевдообратную матрицу выглядит правильным\n",
    "plt.show()"
   ]
  },
  {
   "cell_type": "markdown",
   "metadata": {},
   "source": [
    "### 3.7\n",
    "\n",
    "У вас есть два набора точек – истинные значения *y_true* и предсказанные значения *y_pred*\n",
    "\n",
    "* для каждой точки из *y_true* постройте величину ошибки $e = y-\\hat{y}$ – это называется **остатки регрессии**\n",
    "* возведите ошибки в квадрат $e^2$\n",
    "* постройте график ошибок – зависимость $e^2$ от $e$"
   ]
  },
  {
   "cell_type": "code",
   "execution_count": 98,
   "metadata": {},
   "outputs": [],
   "source": [
    "y_pred = np.array([30.0, 25.03, 30.57, 28.61, 27.94, 25.26, 23.0, 19.54, 11.52, 18.92, 19.0, 21.59, 20.91, 19.55, 19.28, 19.3,\\\n",
    "                    20.53, 16.91, 16.18, 18.41, 12.52, 17.67, 15.83, 13.81, 15.68, 13.39, 15.46, 14.71, 19.55, 20.88, 11.46, 18.06,\\\n",
    "                    8.81, 14.28, 13.71, 23.81, 22.34, 23.11, 22.92, 31.36])\n",
    "y_true = np.array([24.0, 21.6, 34.7, 33.4, 36.2, 28.7, 22.9, 27.1, 16.5, 18.9, 15.0, 18.9, 21.7, 20.4, 18.2, 19.9, 23.1, 17.5, \\\n",
    "                    20.2, 18.2, 13.6, 19.6, 15.2, 14.5, 15.6, 13.9, 16.6, 14.8, 18.4, 21.0, 12.7, 14.5, 13.2, 13.1, 13.5, 18.9, 20.0,\\\n",
    "                    21.0, 24.7, 30.8])"
   ]
  },
  {
   "cell_type": "code",
   "execution_count": 99,
   "metadata": {},
   "outputs": [
    {
     "data": {
      "text/plain": [
       "array([ 6.  ,  3.43, -4.13, -4.79, -8.26, -3.44,  0.1 , -7.56, -4.98,\n",
       "        0.02,  4.  ,  2.69, -0.79, -0.85,  1.08, -0.6 , -2.57, -0.59,\n",
       "       -4.02,  0.21, -1.08, -1.93,  0.63, -0.69,  0.08, -0.51, -1.14,\n",
       "       -0.09,  1.15, -0.12, -1.24,  3.56, -4.39,  1.18,  0.21,  4.91,\n",
       "        2.34,  2.11, -1.78,  0.56])"
      ]
     },
     "execution_count": 99,
     "metadata": {},
     "output_type": "execute_result"
    }
   ],
   "source": [
    "errors = y_pred - y_true\n",
    "errors"
   ]
  },
  {
   "cell_type": "code",
   "execution_count": 100,
   "metadata": {},
   "outputs": [
    {
     "data": {
      "text/plain": [
       "<matplotlib.collections.PathCollection at 0x20103502e08>"
      ]
     },
     "execution_count": 100,
     "metadata": {},
     "output_type": "execute_result"
    },
    {
     "data": {
      "image/png": "[encoded data removed]",
      "text/plain": [
       "<Figure size 432x288 with 1 Axes>"
      ]
     },
     "metadata": {
      "needs_background": "light"
     },
     "output_type": "display_data"
    }
   ],
   "source": [
    "plt.scatter(errors, errors**2)     #  это ведь не график MSE (функция MSE зависит от коэффициентов)? \n",
    "#  смысл задания непонятен"
   ]
  },
  {
   "cell_type": "markdown",
   "metadata": {},
   "source": [
    "### 3.9\n",
    "\n",
    "Даны точки $x$ и значения в этих точках $y$. Нормализуйте $y$ с помощью *z-score* и постройте график зависимости нормализованных значений от $x$. Для графика используйте `.scatter(x,y_tansformed)`"
   ]
  },
  {
   "cell_type": "code",
   "execution_count": 109,
   "metadata": {},
   "outputs": [],
   "source": [
    "X = np.linspace(1,10,num=10)\n",
    "Y = np.array([1.,  3.,  4.,  2., 10.,  5.,  5.,  2.,  5., 10.], dtype=np.float32)"
   ]
  },
  {
   "cell_type": "code",
   "execution_count": 118,
   "metadata": {},
   "outputs": [
    {
     "data": {
      "text/plain": [
       "array([[-1.2465616 ],\n",
       "       [-0.57274455],\n",
       "       [-0.23583598],\n",
       "       [-0.9096531 ],\n",
       "       [ 1.7856153 ],\n",
       "       [ 0.10107257],\n",
       "       [ 0.10107257],\n",
       "       [-0.9096531 ],\n",
       "       [ 0.10107257],\n",
       "       [ 1.7856153 ]], dtype=float32)"
      ]
     },
     "execution_count": 118,
     "metadata": {},
     "output_type": "execute_result"
    }
   ],
   "source": [
    "Y_z = Y.reshape(-1,1)\n",
    "scaler = StandardScaler()\n",
    "Y_z = scaler.fit(Y_z).transform(Y_z)\n",
    "Y_z"
   ]
  },
  {
   "cell_type": "code",
   "execution_count": 142,
   "metadata": {},
   "outputs": [
    {
     "data": {
      "text/plain": [
       "(-2, 11)"
      ]
     },
     "execution_count": 142,
     "metadata": {},
     "output_type": "execute_result"
    },
    {
     "data": {
      "image/png": "[encoded data removed]",
      "text/plain": [
       "<Figure size 432x288 with 1 Axes>"
      ]
     },
     "metadata": {
      "needs_background": "light"
     },
     "output_type": "display_data"
    }
   ],
   "source": [
    "plt.scatter(X, Y, s=50, c='m')\n",
    "plt.scatter(X, Y_z, s=80, c='g')\n",
    "plt.ylim(-2,11)         #  все же непонятно, зачем трансформировать данные на выходе (и на входе тоже - мы ведь теряем информацию)\n",
    "#  или частью информации приходится пожертвовать, чтобы получить более надежное предсказание для основной части данных?"
   ]
  },
  {
   "cell_type": "markdown",
   "metadata": {},
   "source": [
    "### 3.11.1\n",
    "\n",
    "**Задание простого уровня** Мы говорили, что метрики качества нужны, чтобы сравнивать различные модели между собой. В задаче полиномиальной регрессии реализуйте код для выбора лучшей степени полиному:\n",
    "\n",
    "* возьмите все степени от 1 до 10 по порядку, без пропусков.\n",
    "* найдите степень полинома, где будет лучший r2-score\n",
    "* напишите код, который выводит самую подходящую степень полинома и соответствующий ей скор\n",
    "\n",
    "Эта процедура называется Grid Search и помогает найти лучшие параметры для модели.\n",
    "\n",
    "Обучите лучшую модель и сделайте predict"
   ]
  },
  {
   "cell_type": "code",
   "execution_count": 203,
   "metadata": {
    "scrolled": true
   },
   "outputs": [
    {
     "data": {
      "text/html": [
       "<div>\n",
       "<style scoped>\n",
       "    .dataframe tbody tr th:only-of-type {\n",
       "        vertical-align: middle;\n",
       "    }\n",
       "\n",
       "    .dataframe tbody tr th {\n",
       "        vertical-align: top;\n",
       "    }\n",
       "\n",
       "    .dataframe thead th {\n",
       "        text-align: right;\n",
       "    }\n",
       "</style>\n",
       "<table border=\"1\" class=\"dataframe\">\n",
       "  <thead>\n",
       "    <tr style=\"text-align: right;\">\n",
       "      <th></th>\n",
       "      <th>x_train</th>\n",
       "      <th>y_train</th>\n",
       "    </tr>\n",
       "  </thead>\n",
       "  <tbody>\n",
       "    <tr>\n",
       "      <th>0</th>\n",
       "      <td>0.138368</td>\n",
       "      <td>0.838812</td>\n",
       "    </tr>\n",
       "    <tr>\n",
       "      <th>1</th>\n",
       "      <td>0.157237</td>\n",
       "      <td>0.889313</td>\n",
       "    </tr>\n",
       "    <tr>\n",
       "      <th>2</th>\n",
       "      <td>0.188684</td>\n",
       "      <td>1.430040</td>\n",
       "    </tr>\n",
       "    <tr>\n",
       "      <th>3</th>\n",
       "      <td>0.685553</td>\n",
       "      <td>1.717309</td>\n",
       "    </tr>\n",
       "    <tr>\n",
       "      <th>4</th>\n",
       "      <td>0.874237</td>\n",
       "      <td>2.032588</td>\n",
       "    </tr>\n",
       "    <tr>\n",
       "      <th>5</th>\n",
       "      <td>1.182421</td>\n",
       "      <td>1.860341</td>\n",
       "    </tr>\n",
       "    <tr>\n",
       "      <th>6</th>\n",
       "      <td>1.251605</td>\n",
       "      <td>1.878928</td>\n",
       "    </tr>\n",
       "    <tr>\n",
       "      <th>7</th>\n",
       "      <td>1.270474</td>\n",
       "      <td>2.430015</td>\n",
       "    </tr>\n",
       "    <tr>\n",
       "      <th>8</th>\n",
       "      <td>1.402553</td>\n",
       "      <td>2.327856</td>\n",
       "    </tr>\n",
       "    <tr>\n",
       "      <th>9</th>\n",
       "      <td>1.427711</td>\n",
       "      <td>2.203649</td>\n",
       "    </tr>\n",
       "    <tr>\n",
       "      <th>10</th>\n",
       "      <td>1.471737</td>\n",
       "      <td>2.207708</td>\n",
       "    </tr>\n",
       "    <tr>\n",
       "      <th>11</th>\n",
       "      <td>1.534632</td>\n",
       "      <td>1.388039</td>\n",
       "    </tr>\n",
       "    <tr>\n",
       "      <th>12</th>\n",
       "      <td>1.553500</td>\n",
       "      <td>1.718544</td>\n",
       "    </tr>\n",
       "    <tr>\n",
       "      <th>13</th>\n",
       "      <td>1.842816</td>\n",
       "      <td>2.103264</td>\n",
       "    </tr>\n",
       "    <tr>\n",
       "      <th>14</th>\n",
       "      <td>2.018921</td>\n",
       "      <td>2.295177</td>\n",
       "    </tr>\n",
       "    <tr>\n",
       "      <th>15</th>\n",
       "      <td>2.289369</td>\n",
       "      <td>1.965152</td>\n",
       "    </tr>\n",
       "    <tr>\n",
       "      <th>16</th>\n",
       "      <td>2.641579</td>\n",
       "      <td>0.745949</td>\n",
       "    </tr>\n",
       "    <tr>\n",
       "      <th>17</th>\n",
       "      <td>2.685606</td>\n",
       "      <td>1.160798</td>\n",
       "    </tr>\n",
       "    <tr>\n",
       "      <th>18</th>\n",
       "      <td>2.798816</td>\n",
       "      <td>0.847264</td>\n",
       "    </tr>\n",
       "    <tr>\n",
       "      <th>19</th>\n",
       "      <td>2.823974</td>\n",
       "      <td>0.755585</td>\n",
       "    </tr>\n",
       "    <tr>\n",
       "      <th>20</th>\n",
       "      <td>2.912027</td>\n",
       "      <td>1.304593</td>\n",
       "    </tr>\n",
       "    <tr>\n",
       "      <th>21</th>\n",
       "      <td>2.924606</td>\n",
       "      <td>1.066442</td>\n",
       "    </tr>\n",
       "    <tr>\n",
       "      <th>22</th>\n",
       "      <td>3.270527</td>\n",
       "      <td>0.676944</td>\n",
       "    </tr>\n",
       "    <tr>\n",
       "      <th>23</th>\n",
       "      <td>3.314553</td>\n",
       "      <td>0.579166</td>\n",
       "    </tr>\n",
       "    <tr>\n",
       "      <th>24</th>\n",
       "      <td>3.528395</td>\n",
       "      <td>0.133375</td>\n",
       "    </tr>\n",
       "    <tr>\n",
       "      <th>25</th>\n",
       "      <td>3.597580</td>\n",
       "      <td>0.171235</td>\n",
       "    </tr>\n",
       "    <tr>\n",
       "      <th>26</th>\n",
       "      <td>3.761106</td>\n",
       "      <td>0.196110</td>\n",
       "    </tr>\n",
       "    <tr>\n",
       "      <th>27</th>\n",
       "      <td>3.773685</td>\n",
       "      <td>-0.072016</td>\n",
       "    </tr>\n",
       "    <tr>\n",
       "      <th>28</th>\n",
       "      <td>3.918343</td>\n",
       "      <td>0.118110</td>\n",
       "    </tr>\n",
       "    <tr>\n",
       "      <th>29</th>\n",
       "      <td>4.107027</td>\n",
       "      <td>0.466673</td>\n",
       "    </tr>\n",
       "    <tr>\n",
       "      <th>30</th>\n",
       "      <td>4.107027</td>\n",
       "      <td>0.315611</td>\n",
       "    </tr>\n",
       "    <tr>\n",
       "      <th>31</th>\n",
       "      <td>4.125895</td>\n",
       "      <td>0.214945</td>\n",
       "    </tr>\n",
       "    <tr>\n",
       "      <th>32</th>\n",
       "      <td>4.188790</td>\n",
       "      <td>0.050313</td>\n",
       "    </tr>\n",
       "    <tr>\n",
       "      <th>33</th>\n",
       "      <td>4.333448</td>\n",
       "      <td>0.106148</td>\n",
       "    </tr>\n",
       "    <tr>\n",
       "      <th>34</th>\n",
       "      <td>4.541001</td>\n",
       "      <td>0.057132</td>\n",
       "    </tr>\n",
       "    <tr>\n",
       "      <th>35</th>\n",
       "      <td>4.572448</td>\n",
       "      <td>-0.057252</td>\n",
       "    </tr>\n",
       "    <tr>\n",
       "      <th>36</th>\n",
       "      <td>4.622764</td>\n",
       "      <td>0.449234</td>\n",
       "    </tr>\n",
       "    <tr>\n",
       "      <th>37</th>\n",
       "      <td>4.641632</td>\n",
       "      <td>-0.336120</td>\n",
       "    </tr>\n",
       "    <tr>\n",
       "      <th>38</th>\n",
       "      <td>4.937238</td>\n",
       "      <td>-0.038237</td>\n",
       "    </tr>\n",
       "    <tr>\n",
       "      <th>39</th>\n",
       "      <td>5.125922</td>\n",
       "      <td>0.095250</td>\n",
       "    </tr>\n",
       "    <tr>\n",
       "      <th>40</th>\n",
       "      <td>5.157369</td>\n",
       "      <td>0.313029</td>\n",
       "    </tr>\n",
       "    <tr>\n",
       "      <th>41</th>\n",
       "      <td>5.258001</td>\n",
       "      <td>-0.231257</td>\n",
       "    </tr>\n",
       "    <tr>\n",
       "      <th>42</th>\n",
       "      <td>5.308317</td>\n",
       "      <td>0.024936</td>\n",
       "    </tr>\n",
       "    <tr>\n",
       "      <th>43</th>\n",
       "      <td>5.415238</td>\n",
       "      <td>0.418719</td>\n",
       "    </tr>\n",
       "    <tr>\n",
       "      <th>44</th>\n",
       "      <td>5.446685</td>\n",
       "      <td>0.165727</td>\n",
       "    </tr>\n",
       "    <tr>\n",
       "      <th>45</th>\n",
       "      <td>5.509580</td>\n",
       "      <td>0.266092</td>\n",
       "    </tr>\n",
       "    <tr>\n",
       "      <th>46</th>\n",
       "      <td>5.610212</td>\n",
       "      <td>0.669440</td>\n",
       "    </tr>\n",
       "    <tr>\n",
       "      <th>47</th>\n",
       "      <td>5.949843</td>\n",
       "      <td>0.892383</td>\n",
       "    </tr>\n",
       "    <tr>\n",
       "      <th>48</th>\n",
       "      <td>5.968712</td>\n",
       "      <td>1.265869</td>\n",
       "    </tr>\n",
       "    <tr>\n",
       "      <th>49</th>\n",
       "      <td>5.968712</td>\n",
       "      <td>0.664839</td>\n",
       "    </tr>\n",
       "  </tbody>\n",
       "</table>\n",
       "</div>"
      ],
      "text/plain": [
       "     x_train   y_train\n",
       "0   0.138368  0.838812\n",
       "1   0.157237  0.889313\n",
       "2   0.188684  1.430040\n",
       "3   0.685553  1.717309\n",
       "4   0.874237  2.032588\n",
       "5   1.182421  1.860341\n",
       "6   1.251605  1.878928\n",
       "7   1.270474  2.430015\n",
       "8   1.402553  2.327856\n",
       "9   1.427711  2.203649\n",
       "10  1.471737  2.207708\n",
       "11  1.534632  1.388039\n",
       "12  1.553500  1.718544\n",
       "13  1.842816  2.103264\n",
       "14  2.018921  2.295177\n",
       "15  2.289369  1.965152\n",
       "16  2.641579  0.745949\n",
       "17  2.685606  1.160798\n",
       "18  2.798816  0.847264\n",
       "19  2.823974  0.755585\n",
       "20  2.912027  1.304593\n",
       "21  2.924606  1.066442\n",
       "22  3.270527  0.676944\n",
       "23  3.314553  0.579166\n",
       "24  3.528395  0.133375\n",
       "25  3.597580  0.171235\n",
       "26  3.761106  0.196110\n",
       "27  3.773685 -0.072016\n",
       "28  3.918343  0.118110\n",
       "29  4.107027  0.466673\n",
       "30  4.107027  0.315611\n",
       "31  4.125895  0.214945\n",
       "32  4.188790  0.050313\n",
       "33  4.333448  0.106148\n",
       "34  4.541001  0.057132\n",
       "35  4.572448 -0.057252\n",
       "36  4.622764  0.449234\n",
       "37  4.641632 -0.336120\n",
       "38  4.937238 -0.038237\n",
       "39  5.125922  0.095250\n",
       "40  5.157369  0.313029\n",
       "41  5.258001 -0.231257\n",
       "42  5.308317  0.024936\n",
       "43  5.415238  0.418719\n",
       "44  5.446685  0.165727\n",
       "45  5.509580  0.266092\n",
       "46  5.610212  0.669440\n",
       "47  5.949843  0.892383\n",
       "48  5.968712  1.265869\n",
       "49  5.968712  0.664839"
      ]
     },
     "execution_count": 203,
     "metadata": {},
     "output_type": "execute_result"
    }
   ],
   "source": [
    "trains_df = pd.read_csv('3.10_non_linear.csv')\n",
    "trains_df"
   ]
  },
  {
   "cell_type": "code",
   "execution_count": 204,
   "metadata": {},
   "outputs": [
    {
     "data": {
      "text/plain": [
       "<matplotlib.collections.PathCollection at 0x20105a99e08>"
      ]
     },
     "execution_count": 204,
     "metadata": {},
     "output_type": "execute_result"
    },
    {
     "data": {
      "image/png": "[encoded data removed]",
      "text/plain": [
       "<Figure size 432x288 with 1 Axes>"
      ]
     },
     "metadata": {
      "needs_background": "light"
     },
     "output_type": "display_data"
    }
   ],
   "source": [
    "plt.scatter(trains_df['x_train'], trains_df['y_train'])"
   ]
  },
  {
   "cell_type": "code",
   "execution_count": 214,
   "metadata": {},
   "outputs": [
    {
     "data": {
      "text/plain": [
       "array([1.92263843, 1.91631157, 1.9057668 , 1.73915947, 1.67589087,\n",
       "       1.57255215, 1.54935366, 1.5430268 , 1.49873878, 1.49030296])"
      ]
     },
     "execution_count": 214,
     "metadata": {},
     "output_type": "execute_result"
    }
   ],
   "source": [
    "reg = LinearRegression().fit(trains_df[['x_train']], trains_df['y_train'])\n",
    "Y_predict = reg.predict(trains_df[['x_train']])\n",
    "Y_predict[:10]"
   ]
  },
  {
   "cell_type": "code",
   "execution_count": 216,
   "metadata": {},
   "outputs": [
    {
     "data": {
      "text/plain": [
       "[<matplotlib.lines.Line2D at 0x20105ca2a08>]"
      ]
     },
     "execution_count": 216,
     "metadata": {},
     "output_type": "execute_result"
    },
    {
     "data": {
      "image/png": "[encoded data removed]",
      "text/plain": [
       "<Figure size 432x288 with 1 Axes>"
      ]
     },
     "metadata": {
      "needs_background": "light"
     },
     "output_type": "display_data"
    }
   ],
   "source": [
    "plt.scatter(trains_df['x_train'], trains_df['y_train'])\n",
    "plt.plot(trains_df['x_train'], Y_predict, c='g')            #  простая линейная модель"
   ]
  },
  {
   "cell_type": "code",
   "execution_count": 224,
   "metadata": {
    "scrolled": true
   },
   "outputs": [
    {
     "data": {
      "text/plain": [
       "array([[1.38368445e-01, 1.91458266e-02, 2.64917826e-03],\n",
       "       [1.57236870e-01, 2.47234331e-02, 3.88743523e-03],\n",
       "       [1.88684243e-01, 3.56017437e-02, 6.71748808e-03],\n",
       "       [6.85552751e-01, 4.69982575e-01, 3.22197847e-01],\n",
       "       [8.74236995e-01, 7.64290323e-01, 6.68170875e-01],\n",
       "       [1.18242126e+00, 1.39812003e+00, 1.65316685e+00],\n",
       "       [1.25160548e+00, 1.56651628e+00, 1.96066037e+00],\n",
       "       [1.27047391e+00, 1.61410395e+00, 2.05067694e+00],\n",
       "       [1.40255288e+00, 1.96715457e+00, 2.75903830e+00],\n",
       "       [1.42771078e+00, 2.03835806e+00, 2.91018576e+00],\n",
       "       [1.47173710e+00, 2.16601009e+00, 3.18779740e+00],\n",
       "       [1.53463185e+00, 2.35509491e+00, 3.61420364e+00],\n",
       "       [1.55350027e+00, 2.41336309e+00, 3.74916022e+00],\n",
       "       [1.84281611e+00, 3.39597122e+00, 6.25815048e+00],\n",
       "       [2.01892141e+00, 4.07604364e+00, 8.22921175e+00],\n",
       "       [2.28936882e+00, 5.24120960e+00, 1.19990618e+01],\n",
       "       [2.64157941e+00, 6.97794177e+00, 1.84327873e+01],\n",
       "       [2.68560573e+00, 7.21247815e+00, 1.93698727e+01],\n",
       "       [2.79881628e+00, 7.83337256e+00, 2.19241706e+01],\n",
       "       [2.82397418e+00, 7.97483015e+00, 2.25207144e+01],\n",
       "       [2.91202682e+00, 8.47990022e+00, 2.46936969e+01],\n",
       "       [2.92460577e+00, 8.55331893e+00, 2.50150859e+01],\n",
       "       [3.27052689e+00, 1.06963461e+01, 3.49826876e+01],\n",
       "       [3.31455321e+00, 1.09862630e+01, 3.64145532e+01],\n",
       "       [3.52839535e+00, 1.24495738e+01, 4.39270182e+01],\n",
       "       [3.59757958e+00, 1.29425788e+01, 4.65619571e+01],\n",
       "       [3.76110592e+00, 1.41459177e+01, 5.32042949e+01],\n",
       "       [3.77368487e+00, 1.42406975e+01, 5.37399047e+01],\n",
       "       [3.91834279e+00, 1.53534102e+01, 6.01599242e+01],\n",
       "       [4.10702703e+00, 1.68676710e+01, 6.92759810e+01],\n",
       "       [4.10702703e+00, 1.68676710e+01, 6.92759810e+01],\n",
       "       [4.12589546e+00, 1.70230133e+01, 7.02351733e+01],\n",
       "       [4.18879020e+00, 1.75459634e+01, 7.34963595e+01],\n",
       "       [4.33344812e+00, 1.87787727e+01, 8.13768371e+01],\n",
       "       [4.54100079e+00, 2.06206882e+01, 9.36385615e+01],\n",
       "       [4.57244817e+00, 2.09072822e+01, 9.55974643e+01],\n",
       "       [4.62276396e+00, 2.13699467e+01, 9.87882194e+01],\n",
       "       [4.64163239e+00, 2.15447512e+01, 1.00002815e+02],\n",
       "       [4.93723770e+00, 2.43763161e+01, 1.20351667e+02],\n",
       "       [5.12592195e+00, 2.62750758e+01, 1.34683988e+02],\n",
       "       [5.15736932e+00, 2.65984583e+01, 1.37178073e+02],\n",
       "       [5.25800092e+00, 2.76465737e+01, 1.45365710e+02],\n",
       "       [5.30831672e+00, 2.81782264e+01, 1.49578950e+02],\n",
       "       [5.41523779e+00, 2.93248003e+01, 1.58800767e+02],\n",
       "       [5.44668516e+00, 2.96663792e+01, 1.61583428e+02],\n",
       "       [5.50957991e+00, 3.03554708e+01, 1.67245892e+02],\n",
       "       [5.61021151e+00, 3.14744731e+01, 1.76578451e+02],\n",
       "       [5.94984314e+00, 3.54006334e+01, 2.10628216e+02],\n",
       "       [5.96871157e+00, 3.56255178e+01, 2.12638440e+02],\n",
       "       [5.96871157e+00, 3.56255178e+01, 2.12638440e+02]])"
      ]
     },
     "execution_count": 224,
     "metadata": {},
     "output_type": "execute_result"
    }
   ],
   "source": [
    "def get_polynome(power):                            #  функция для получения полинома заданной степени\n",
    "    return np.array([(trains_df['x_train']**p) for p in range(1, power+1)]).T\n",
    "get_polynome(3)"
   ]
  },
  {
   "cell_type": "code",
   "execution_count": 236,
   "metadata": {},
   "outputs": [
    {
     "data": {
      "image/png": "[encoded data removed]",
      "text/plain": [
       "<Figure size 432x288 with 1 Axes>"
      ]
     },
     "metadata": {
      "needs_background": "light"
     },
     "output_type": "display_data"
    }
   ],
   "source": [
    "def train_model(power): \n",
    "    X_poly = get_polynome(power)\n",
    "    reg = LinearRegression().fit(X_poly, trains_df['y_train'])\n",
    "    Y_poly = reg.predict(X_poly)\n",
    "    \n",
    "    mse = mean_squared_error(trains_df['y_train'], Y_poly)\n",
    "\n",
    "    plt.scatter(trains_df['x_train'], trains_df['y_train'])\n",
    "    plt.plot(trains_df['x_train'], Y_poly, c='g')\n",
    "    plt.legend(labels=[mse])\n",
    "    \n",
    "train_model(1)              #  функция для обучения модели регрессии заданной степени"
   ]
  },
  {
   "cell_type": "code",
   "execution_count": 237,
   "metadata": {},
   "outputs": [
    {
     "data": {
      "image/png": "[encoded data removed]",
      "text/plain": [
       "<Figure size 432x288 with 1 Axes>"
      ]
     },
     "metadata": {
      "needs_background": "light"
     },
     "output_type": "display_data"
    }
   ],
   "source": [
    "train_model(3)"
   ]
  },
  {
   "cell_type": "code",
   "execution_count": 240,
   "metadata": {},
   "outputs": [
    {
     "data": {
      "image/png": "[encoded data removed]",
      "text/plain": [
       "<Figure size 432x288 with 1 Axes>"
      ]
     },
     "metadata": {
      "needs_background": "light"
     },
     "output_type": "display_data"
    }
   ],
   "source": [
    "train_model(6)"
   ]
  },
  {
   "cell_type": "code",
   "execution_count": 253,
   "metadata": {},
   "outputs": [
    {
     "data": {
      "image/png": "[encoded data removed]",
      "text/plain": [
       "<Figure size 432x288 with 1 Axes>"
      ]
     },
     "metadata": {
      "needs_background": "light"
     },
     "output_type": "display_data"
    }
   ],
   "source": [
    "train_model(14)          #  полином 14 степени дает минимальную mse (дальше mse снова растет)"
   ]
  },
  {
   "cell_type": "markdown",
   "metadata": {},
   "source": [
    "### 3.11.2\n",
    "**Задание среднего уровня** Напишите класс для обучения модели, который содержит:\n",
    "\n",
    "* функцию `.fit(X, y)` , которая принимает на вход массив фичей `X`, массив таргетов `y` и обучает коэффициенты регрессии. Код для обучения взять из первого урока модуля *Постановка ML задачи линейной регрессии*\n",
    "* функцию `.predict(X)`, которая по массиву фичей `X` возвращает массив предсказаний `y`\n",
    "\n",
    "Нужно использовать код для аналитически вычисляемых коэффициентов. \n",
    "\n",
    "Это задание позволит понять, как работает линейная регрессия \"внутри\" библиотечной реализации."
   ]
  },
  {
   "cell_type": "code",
   "execution_count": 405,
   "metadata": {},
   "outputs": [],
   "source": [
    "#  надеюсь, задание понято правильно\n",
    "\n",
    "class CustomLinearReg:\n",
    "\n",
    "    def __init__(self):                   #  в конструктор вроде бы ничего передавать не нужно\n",
    "        pass\n",
    "    \n",
    "    def fit(self, X, y):\n",
    "        self.X = Matrix()                                #  рассчитано из sympy, не numpy, потому что так удобнее\n",
    "        self.y = Matrix()\n",
    "        w = ((X.T*X)**-1*X.T)*y\n",
    "        return np.array(w, dtype=float).reshape(1,2)\n",
    "    \n",
    "    def predict(self, X):\n",
    "        w = ((X.T*X)**-1*X.T)*y\n",
    "        return np.ravel(np.array(X*w, dtype=float)) "
   ]
  },
  {
   "cell_type": "code",
   "execution_count": 406,
   "metadata": {},
   "outputs": [
    {
     "data": {
      "text/plain": [
       "array([[  0.71428571, -22.5       ]])"
      ]
     },
     "execution_count": 406,
     "metadata": {},
     "output_type": "execute_result"
    }
   ],
   "source": [
    "X = Matrix([[50,1], [60,1], [70,1], [100,1]])\n",
    "y = Matrix([10, 15, 40, 45]) \n",
    "c_reg = CustomLinearReg()\n",
    "c_reg.fit(X,y)"
   ]
  },
  {
   "cell_type": "code",
   "execution_count": 407,
   "metadata": {},
   "outputs": [
    {
     "data": {
      "text/plain": [
       "array([13.21428571, 20.35714286, 27.5       , 48.92857143])"
      ]
     },
     "execution_count": 407,
     "metadata": {},
     "output_type": "execute_result"
    }
   ],
   "source": [
    "c_reg.predict(X)"
   ]
  },
  {
   "cell_type": "code",
   "execution_count": 408,
   "metadata": {},
   "outputs": [],
   "source": [
    "class CustomLinearReg:\n",
    "\n",
    "    def __init__(self):\n",
    "        pass\n",
    "    \n",
    "    def fit(self, X, y):\n",
    "        self.X = Matrix()\n",
    "        self.y = Matrix()\n",
    "        if not isinstance(self.X, Matrix) or isinstance(self.y, Matrix):       #  при попытке включить проверку:\n",
    "            raise TypeError('data must belong to class Matrix')             #  ?? почему это условие ведет себя так странно\n",
    "        else:\n",
    "            w = ((X.T*X)**-1*X.T)*y\n",
    "            return np.array(w, dtype=float).reshape(1,2)\n",
    "    \n",
    "#    def predict(self, X):\n",
    "#        w = ((X.T*X)**-1*X.T)*y\n",
    "#        return np.ravel(np.array(X*w, dtype=float))"
   ]
  },
  {
   "cell_type": "code",
   "execution_count": 409,
   "metadata": {},
   "outputs": [
    {
     "ename": "TypeError",
     "evalue": "data must belong to class Matrix",
     "output_type": "error",
     "traceback": [
      "\u001b[1;31m---------------------------------------------------------------------------\u001b[0m",
      "\u001b[1;31mTypeError\u001b[0m                                 Traceback (most recent call last)",
      "\u001b[1;32m<ipython-input-409-dcad1a6d3279>\u001b[0m in \u001b[0;36m<module>\u001b[1;34m\u001b[0m\n\u001b[0;32m      2\u001b[0m \u001b[0my\u001b[0m \u001b[1;33m=\u001b[0m \u001b[0mMatrix\u001b[0m\u001b[1;33m(\u001b[0m\u001b[1;33m[\u001b[0m\u001b[1;36m10\u001b[0m\u001b[1;33m,\u001b[0m \u001b[1;36m15\u001b[0m\u001b[1;33m,\u001b[0m \u001b[1;36m40\u001b[0m\u001b[1;33m,\u001b[0m \u001b[1;36m45\u001b[0m\u001b[1;33m]\u001b[0m\u001b[1;33m)\u001b[0m\u001b[1;33m\u001b[0m\u001b[1;33m\u001b[0m\u001b[0m\n\u001b[0;32m      3\u001b[0m \u001b[0mc_reg\u001b[0m \u001b[1;33m=\u001b[0m \u001b[0mCustomLinearReg\u001b[0m\u001b[1;33m(\u001b[0m\u001b[1;33m)\u001b[0m\u001b[1;33m\u001b[0m\u001b[1;33m\u001b[0m\u001b[0m\n\u001b[1;32m----> 4\u001b[1;33m \u001b[0mc_reg\u001b[0m\u001b[1;33m.\u001b[0m\u001b[0mfit\u001b[0m\u001b[1;33m(\u001b[0m\u001b[0mX\u001b[0m\u001b[1;33m,\u001b[0m\u001b[0my\u001b[0m\u001b[1;33m)\u001b[0m\u001b[1;33m\u001b[0m\u001b[1;33m\u001b[0m\u001b[0m\n\u001b[0m",
      "\u001b[1;32m<ipython-input-408-0e356c579caa>\u001b[0m in \u001b[0;36mfit\u001b[1;34m(self, X, y)\u001b[0m\n\u001b[0;32m      8\u001b[0m         \u001b[0mself\u001b[0m\u001b[1;33m.\u001b[0m\u001b[0my\u001b[0m \u001b[1;33m=\u001b[0m \u001b[0mMatrix\u001b[0m\u001b[1;33m(\u001b[0m\u001b[1;33m)\u001b[0m\u001b[1;33m\u001b[0m\u001b[1;33m\u001b[0m\u001b[0m\n\u001b[0;32m      9\u001b[0m         \u001b[1;32mif\u001b[0m \u001b[1;32mnot\u001b[0m \u001b[0misinstance\u001b[0m\u001b[1;33m(\u001b[0m\u001b[0mself\u001b[0m\u001b[1;33m.\u001b[0m\u001b[0mX\u001b[0m\u001b[1;33m,\u001b[0m \u001b[0mMatrix\u001b[0m\u001b[1;33m)\u001b[0m \u001b[1;32mor\u001b[0m \u001b[0misinstance\u001b[0m\u001b[1;33m(\u001b[0m\u001b[0mself\u001b[0m\u001b[1;33m.\u001b[0m\u001b[0my\u001b[0m\u001b[1;33m,\u001b[0m \u001b[0mMatrix\u001b[0m\u001b[1;33m)\u001b[0m\u001b[1;33m:\u001b[0m\u001b[1;33m\u001b[0m\u001b[1;33m\u001b[0m\u001b[0m\n\u001b[1;32m---> 10\u001b[1;33m             \u001b[1;32mraise\u001b[0m \u001b[0mTypeError\u001b[0m\u001b[1;33m(\u001b[0m\u001b[1;34m'data must belong to class Matrix'\u001b[0m\u001b[1;33m)\u001b[0m\u001b[1;33m\u001b[0m\u001b[1;33m\u001b[0m\u001b[0m\n\u001b[0m\u001b[0;32m     11\u001b[0m         \u001b[1;32melse\u001b[0m\u001b[1;33m:\u001b[0m\u001b[1;33m\u001b[0m\u001b[1;33m\u001b[0m\u001b[0m\n\u001b[0;32m     12\u001b[0m             \u001b[0mw\u001b[0m \u001b[1;33m=\u001b[0m \u001b[1;33m(\u001b[0m\u001b[1;33m(\u001b[0m\u001b[0mX\u001b[0m\u001b[1;33m.\u001b[0m\u001b[0mT\u001b[0m\u001b[1;33m*\u001b[0m\u001b[0mX\u001b[0m\u001b[1;33m)\u001b[0m\u001b[1;33m**\u001b[0m\u001b[1;33m-\u001b[0m\u001b[1;36m1\u001b[0m\u001b[1;33m*\u001b[0m\u001b[0mX\u001b[0m\u001b[1;33m.\u001b[0m\u001b[0mT\u001b[0m\u001b[1;33m)\u001b[0m\u001b[1;33m*\u001b[0m\u001b[0my\u001b[0m\u001b[1;33m\u001b[0m\u001b[1;33m\u001b[0m\u001b[0m\n",
      "\u001b[1;31mTypeError\u001b[0m: data must belong to class Matrix"
     ]
    }
   ],
   "source": [
    "X = Matrix([[50,1], [60,1], [70,1], [100,1]])\n",
    "y = Matrix([10, 15, 40, 45]) \n",
    "c_reg = CustomLinearReg()\n",
    "c_reg.fit(X,y)                                  #  ?? должно быть все наоборот"
   ]
  },
  {
   "cell_type": "markdown",
   "metadata": {},
   "source": [
    "### 3.11.3\n",
    "**Задание высокого уровня**\n",
    "\n",
    "1. разделите датасет с домами Бостона из Урока 2 (таргет и фичи) на две части: в одной части 80% датасета (назовём train) в другой 20% (назовём valid) с помощью функции `train_test_split` из библиотеки `sklearn`\n",
    "1. обучите модель только на train датасете\n",
    "1. постройте предсказания valid датасете\n",
    "1. Посчитайте  `r2 score` на валидационном сете\n",
    "\n",
    "После этого примените к обеим датасетам z-преобразование и повторите шаги 2-4. Как изменилась метрика r2?\n",
    "\n",
    "Это задание поможет понять, как валидировать линейную регрессию (и другие модели) на отложенной выборке."
   ]
  },
  {
   "cell_type": "code",
   "execution_count": 270,
   "metadata": {},
   "outputs": [
    {
     "data": {
      "text/plain": [
       "array([[   8.3252    ,   41.        ,    6.98412698, ...,    2.55555556,\n",
       "          37.88      , -122.23      ],\n",
       "       [   8.3014    ,   21.        ,    6.23813708, ...,    2.10984183,\n",
       "          37.86      , -122.22      ],\n",
       "       [   7.2574    ,   52.        ,    8.28813559, ...,    2.80225989,\n",
       "          37.85      , -122.24      ],\n",
       "       ...,\n",
       "       [   1.7       ,   17.        ,    5.20554273, ...,    2.3256351 ,\n",
       "          39.43      , -121.22      ],\n",
       "       [   1.8672    ,   18.        ,    5.32951289, ...,    2.12320917,\n",
       "          39.43      , -121.32      ],\n",
       "       [   2.3886    ,   16.        ,    5.25471698, ...,    2.61698113,\n",
       "          39.37      , -121.24      ]])"
      ]
     },
     "execution_count": 270,
     "metadata": {},
     "output_type": "execute_result"
    }
   ],
   "source": [
    "from sklearn.datasets import fetch_california_housing     #  в док. указано, что boston имеет этическую проблему и будет устранен\n",
    "housing = fetch_california_housing()\n",
    "housing.data"
   ]
  },
  {
   "cell_type": "code",
   "execution_count": 271,
   "metadata": {},
   "outputs": [
    {
     "data": {
      "text/plain": [
       "array([4.526, 3.585, 3.521, ..., 0.923, 0.847, 0.894])"
      ]
     },
     "execution_count": 271,
     "metadata": {},
     "output_type": "execute_result"
    }
   ],
   "source": [
    "housing.target"
   ]
  },
  {
   "cell_type": "code",
   "execution_count": 272,
   "metadata": {},
   "outputs": [],
   "source": [
    "X = housing.data\n",
    "Y = housing.target\n",
    "X_train, X_valid, Y_train, Y_valid = train_test_split(X, Y, test_size=0.20)      #  разделение данных"
   ]
  },
  {
   "cell_type": "code",
   "execution_count": 274,
   "metadata": {},
   "outputs": [
    {
     "data": {
      "text/plain": [
       "array([2.65801242, 3.10511204, 1.05646841, ..., 4.11836396, 1.00434671,\n",
       "       1.99611749])"
      ]
     },
     "execution_count": 274,
     "metadata": {},
     "output_type": "execute_result"
    }
   ],
   "source": [
    "reg = LinearRegression().fit(X_train, Y_train)            #  обучение тренировочного датасета\n",
    "Y_train_pred = reg.predict(X_train)\n",
    "Y_train_pred"
   ]
  },
  {
   "cell_type": "code",
   "execution_count": 275,
   "metadata": {},
   "outputs": [
    {
     "data": {
      "text/plain": [
       "array([1.74970245, 1.47116438, 1.69823008, ..., 1.40723076, 1.73770132,\n",
       "       2.27659739])"
      ]
     },
     "execution_count": 275,
     "metadata": {},
     "output_type": "execute_result"
    }
   ],
   "source": [
    "reg = LinearRegression().fit(X_valid, Y_valid)                    #  обучение тестового датасета\n",
    "Y_valid_pred = reg.predict(X_valid)\n",
    "Y_valid_pred"
   ]
  },
  {
   "cell_type": "code",
   "execution_count": 276,
   "metadata": {},
   "outputs": [
    {
     "data": {
      "text/plain": [
       "0.636496982310268"
      ]
     },
     "execution_count": 276,
     "metadata": {},
     "output_type": "execute_result"
    }
   ],
   "source": [
    "r2_score(Y_valid, Y_valid_pred)               #  коэффициент детерминации скорее близок к 1 (это хорошо)"
   ]
  },
  {
   "cell_type": "code",
   "execution_count": 280,
   "metadata": {},
   "outputs": [
    {
     "data": {
      "text/plain": [
       "array([[ 0.51630658],\n",
       "       [ 0.90434847],\n",
       "       [-0.87368828],\n",
       "       ...,\n",
       "       [ 1.78375918],\n",
       "       [-0.91892519],\n",
       "       [-0.05815815]])"
      ]
     },
     "execution_count": 280,
     "metadata": {},
     "output_type": "execute_result"
    }
   ],
   "source": [
    "scaler = StandardScaler()                                                          #  нормализация трен.датасета\n",
    "Y_train_z = scaler.fit(Y_train.reshape(-1,1)).transform(Y_train.reshape(-1,1))\n",
    "reg = LinearRegression().fit(X_train, Y_train_z)\n",
    "Y_train_z_pred = reg.predict(X_train)\n",
    "Y_train_z_pred"
   ]
  },
  {
   "cell_type": "code",
   "execution_count": 281,
   "metadata": {},
   "outputs": [
    {
     "data": {
      "text/plain": [
       "array([[-0.29345607],\n",
       "       [-0.53345423],\n",
       "       [-0.33780646],\n",
       "       ...,\n",
       "       [-0.58854168],\n",
       "       [-0.30379666],\n",
       "       [ 0.16053508]])"
      ]
     },
     "execution_count": 281,
     "metadata": {},
     "output_type": "execute_result"
    }
   ],
   "source": [
    "scaler = StandardScaler()                                                           #  нормализация тестового датасета\n",
    "Y_valid_z = scaler.fit(Y_valid.reshape(-1,1)).transform(Y_valid.reshape(-1,1))\n",
    "reg = LinearRegression().fit(X_valid, Y_valid_z)\n",
    "Y_valid_z_pred = reg.predict(X_valid)\n",
    "Y_valid_z_pred"
   ]
  },
  {
   "cell_type": "code",
   "execution_count": 282,
   "metadata": {},
   "outputs": [
    {
     "data": {
      "text/plain": [
       "0.6364969823102677"
      ]
     },
     "execution_count": 282,
     "metadata": {},
     "output_type": "execute_result"
    }
   ],
   "source": [
    "r2_score(Y_valid_z, Y_valid_z_pred)     #  показатель не изменился по отношению к нормализованным данным \n",
    "                       #  (вероятно, потому что z-нормализация меняет только масштаб данных, но не само распределение)"
   ]
  },
  {
   "cell_type": "code",
   "execution_count": 283,
   "metadata": {},
   "outputs": [
    {
     "data": {
      "text/plain": [
       "-2.619509412664039"
      ]
     },
     "execution_count": 283,
     "metadata": {},
     "output_type": "execute_result"
    }
   ],
   "source": [
    "r2_score(Y_valid, Y_valid_z_pred)       #  но стал значительно хуже по отношению к исходным данным   (непонятно почему)"
   ]
  },
  {
   "cell_type": "code",
   "execution_count": null,
   "metadata": {},
   "outputs": [],
   "source": []
  }
 ],
 "metadata": {
  "kernelspec": {
   "display_name": "Python 3",
   "language": "python",
   "name": "python3"
  },
  "language_info": {
   "codemirror_mode": {
    "name": "ipython",
    "version": 3
   },
   "file_extension": ".py",
   "mimetype": "text/x-python",
   "name": "python",
   "nbconvert_exporter": "python",
   "pygments_lexer": "ipython3",
   "version": "3.7.6"
  }
 },
 "nbformat": 4,
 "nbformat_minor": 4
}
